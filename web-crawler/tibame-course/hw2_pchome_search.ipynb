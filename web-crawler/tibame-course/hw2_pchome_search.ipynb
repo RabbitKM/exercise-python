{
  "nbformat": 4,
  "nbformat_minor": 0,
  "metadata": {
    "colab": {
      "provenance": []
    },
    "kernelspec": {
      "name": "python3",
      "display_name": "Python 3"
    },
    "language_info": {
      "name": "python"
    }
  },
  "cells": [
    {
      "cell_type": "code",
      "execution_count": null,
      "metadata": {
        "colab": {
          "base_uri": "https://localhost:8080/",
          "height": 954
        },
        "id": "N_gJ1EHpPtuv",
        "outputId": "6d6db4f0-7860-4b3e-90a9-e3116d0b8aa5"
      },
      "outputs": [
        {
          "output_type": "stream",
          "name": "stdout",
          "text": [
            "+---------------------------------------------------------------------------------------+-------+\n",
            "| 名稱                                                                                  | 價格  |\n",
            "+---------------------------------------------------------------------------------------+-------+\n",
            "| AirPods 3 保護套 無線藍牙耳機 保護殼 第3代 舒適矽膠 掛勾設計 適用 Apple 蘋果 -釉藍色  | 390   |\n",
            "| 抗藍光保護貼 ◆ iPad Pro 12.9吋 (2020) 平板玻璃貼 螢幕鋼化膜 保護貼膜 適用 Apple 蘋果  | 569   |\n",
            "| AirPods 3 保護套 無線藍牙耳機 保護殼 第3代 舒適矽膠 掛勾設計 適用 Apple 蘋果 -極致灰  | 390   |\n",
            "| AirPods 3 保護套 無線藍牙耳機 保護殼 第3代 舒適矽膠 掛勾設計 適用 Apple 蘋果 -軍綠色  | 390   |\n",
            "| Apple iPhone 13 (128G)-星光色(MLPG3TA/A)                                              | 24499 |\n",
            "| 【APPLE蘋果適用】iPhone、iPod、iPad系列耳機 / EarPods 具備 3.5 mm 耳機接頭            | 449   |\n",
            "| Apple Pencil (2nd Generation) (MU8F2TA/A)                                             | 3980  |\n",
            "| Mac mini: Apple M1 chip with 8‐core CPU and 8‐core GPU, 1TB SSD                       | 36713 |\n",
            "| APPLE蘋果 原廠 MagSafe 充電器 MHXH3TA/A (台灣公司貨)                                  | 1188  |\n",
            "| APPLE 蘋果 原廠 Lightning 對 USB 連接線 (1 公尺)                                      | 398   |\n",
            "| Apple Watch Series 7 GPS, 45mm Midnight Aluminium Case with Midnight Sport Band       | 11999 |\n",
            "| 蘋果Apple iPhone / iPad OTG轉接頭轉接器                                               | 299   |\n",
            "| Apple Watch SE GPS, 44mm Space Grey Aluminium Case with Midnight Sport Band - Regular | 9400  |\n",
            "| Apple iPhone 13 (128G)-粉紅色(MLPH3TA/A)                                              | 24499 |\n",
            "| APPLE 蘋果 原廠 Lightning 對 USB 連接線 (1 公尺)                                      | 398   |\n",
            "| APPLE 蘋果 原廠 USB-C 對 Lightning 連接線 (1 公尺)                                    | 398   |\n",
            "| 【Fonemax】蘋果MFi認證 適用 iPhone充電線 Type-C傳輸線 Lightning PD 快充線-1M          | 690   |\n",
            "| AirPods 3 保護套 無線藍牙耳機 保護殼 第3代 舒適矽膠 掛勾設計 適用 Apple 蘋果 -蜜桃粉  | 390   |\n",
            "| Apple iPhone 13 (128G)-藍色(MLPK3TA/A)                                                | 24999 |\n",
            "| AirPods 3 保護套 無線藍牙耳機 保護殼 第3代 舒適矽膠 掛勾設計 適用 Apple 蘋果 -冰綠色  | 390   |\n",
            "+---------------------------------------------------------------------------------------+-------+\n"
          ]
        },
        {
          "output_type": "error",
          "ename": "KeyboardInterrupt",
          "evalue": "ignored",
          "traceback": [
            "\u001b[0;31m---------------------------------------------------------------------------\u001b[0m",
            "\u001b[0;31mKeyboardInterrupt\u001b[0m                         Traceback (most recent call last)",
            "\u001b[0;32m/usr/local/lib/python3.7/dist-packages/ipykernel/kernelbase.py\u001b[0m in \u001b[0;36m_input_request\u001b[0;34m(self, prompt, ident, parent, password)\u001b[0m\n\u001b[1;32m    728\u001b[0m             \u001b[0;32mtry\u001b[0m\u001b[0;34m:\u001b[0m\u001b[0;34m\u001b[0m\u001b[0;34m\u001b[0m\u001b[0m\n\u001b[0;32m--> 729\u001b[0;31m                 \u001b[0mident\u001b[0m\u001b[0;34m,\u001b[0m \u001b[0mreply\u001b[0m \u001b[0;34m=\u001b[0m \u001b[0mself\u001b[0m\u001b[0;34m.\u001b[0m\u001b[0msession\u001b[0m\u001b[0;34m.\u001b[0m\u001b[0mrecv\u001b[0m\u001b[0;34m(\u001b[0m\u001b[0mself\u001b[0m\u001b[0;34m.\u001b[0m\u001b[0mstdin_socket\u001b[0m\u001b[0;34m,\u001b[0m \u001b[0;36m0\u001b[0m\u001b[0;34m)\u001b[0m\u001b[0;34m\u001b[0m\u001b[0;34m\u001b[0m\u001b[0m\n\u001b[0m\u001b[1;32m    730\u001b[0m             \u001b[0;32mexcept\u001b[0m \u001b[0mException\u001b[0m\u001b[0;34m:\u001b[0m\u001b[0;34m\u001b[0m\u001b[0;34m\u001b[0m\u001b[0m\n",
            "\u001b[0;32m/usr/local/lib/python3.7/dist-packages/jupyter_client/session.py\u001b[0m in \u001b[0;36mrecv\u001b[0;34m(self, socket, mode, content, copy)\u001b[0m\n\u001b[1;32m    802\u001b[0m         \u001b[0;32mtry\u001b[0m\u001b[0;34m:\u001b[0m\u001b[0;34m\u001b[0m\u001b[0;34m\u001b[0m\u001b[0m\n\u001b[0;32m--> 803\u001b[0;31m             \u001b[0mmsg_list\u001b[0m \u001b[0;34m=\u001b[0m \u001b[0msocket\u001b[0m\u001b[0;34m.\u001b[0m\u001b[0mrecv_multipart\u001b[0m\u001b[0;34m(\u001b[0m\u001b[0mmode\u001b[0m\u001b[0;34m,\u001b[0m \u001b[0mcopy\u001b[0m\u001b[0;34m=\u001b[0m\u001b[0mcopy\u001b[0m\u001b[0;34m)\u001b[0m\u001b[0;34m\u001b[0m\u001b[0;34m\u001b[0m\u001b[0m\n\u001b[0m\u001b[1;32m    804\u001b[0m         \u001b[0;32mexcept\u001b[0m \u001b[0mzmq\u001b[0m\u001b[0;34m.\u001b[0m\u001b[0mZMQError\u001b[0m \u001b[0;32mas\u001b[0m \u001b[0me\u001b[0m\u001b[0;34m:\u001b[0m\u001b[0;34m\u001b[0m\u001b[0;34m\u001b[0m\u001b[0m\n",
            "\u001b[0;32m/usr/local/lib/python3.7/dist-packages/zmq/sugar/socket.py\u001b[0m in \u001b[0;36mrecv_multipart\u001b[0;34m(self, flags, copy, track)\u001b[0m\n\u001b[1;32m    624\u001b[0m         \"\"\"\n\u001b[0;32m--> 625\u001b[0;31m         \u001b[0mparts\u001b[0m \u001b[0;34m=\u001b[0m \u001b[0;34m[\u001b[0m\u001b[0mself\u001b[0m\u001b[0;34m.\u001b[0m\u001b[0mrecv\u001b[0m\u001b[0;34m(\u001b[0m\u001b[0mflags\u001b[0m\u001b[0;34m,\u001b[0m \u001b[0mcopy\u001b[0m\u001b[0;34m=\u001b[0m\u001b[0mcopy\u001b[0m\u001b[0;34m,\u001b[0m \u001b[0mtrack\u001b[0m\u001b[0;34m=\u001b[0m\u001b[0mtrack\u001b[0m\u001b[0;34m)\u001b[0m\u001b[0;34m]\u001b[0m\u001b[0;34m\u001b[0m\u001b[0;34m\u001b[0m\u001b[0m\n\u001b[0m\u001b[1;32m    626\u001b[0m         \u001b[0;31m# have first part already, only loop while more to receive\u001b[0m\u001b[0;34m\u001b[0m\u001b[0;34m\u001b[0m\u001b[0;34m\u001b[0m\u001b[0m\n",
            "\u001b[0;32mzmq/backend/cython/socket.pyx\u001b[0m in \u001b[0;36mzmq.backend.cython.socket.Socket.recv\u001b[0;34m()\u001b[0m\n",
            "\u001b[0;32mzmq/backend/cython/socket.pyx\u001b[0m in \u001b[0;36mzmq.backend.cython.socket.Socket.recv\u001b[0;34m()\u001b[0m\n",
            "\u001b[0;32mzmq/backend/cython/socket.pyx\u001b[0m in \u001b[0;36mzmq.backend.cython.socket._recv_copy\u001b[0;34m()\u001b[0m\n",
            "\u001b[0;32m/usr/local/lib/python3.7/dist-packages/zmq/backend/cython/checkrc.pxd\u001b[0m in \u001b[0;36mzmq.backend.cython.checkrc._check_rc\u001b[0;34m()\u001b[0m\n",
            "\u001b[0;31mKeyboardInterrupt\u001b[0m: ",
            "\nDuring handling of the above exception, another exception occurred:\n",
            "\u001b[0;31mKeyboardInterrupt\u001b[0m                         Traceback (most recent call last)",
            "\u001b[0;32m<ipython-input-25-b8501ae5995e>\u001b[0m in \u001b[0;36m<module>\u001b[0;34m()\u001b[0m\n\u001b[1;32m     32\u001b[0m   \u001b[0mprint\u001b[0m\u001b[0;34m(\u001b[0m\u001b[0mp1\u001b[0m\u001b[0;34m)\u001b[0m\u001b[0;34m\u001b[0m\u001b[0;34m\u001b[0m\u001b[0m\n\u001b[1;32m     33\u001b[0m \u001b[0;34m\u001b[0m\u001b[0m\n\u001b[0;32m---> 34\u001b[0;31m   \u001b[0mp\u001b[0m \u001b[0;34m=\u001b[0m \u001b[0minput\u001b[0m\u001b[0;34m(\u001b[0m\u001b[0;34m'前往頁碼:'\u001b[0m\u001b[0;34m)\u001b[0m\u001b[0;34m\u001b[0m\u001b[0;34m\u001b[0m\u001b[0m\n\u001b[0m",
            "\u001b[0;32m/usr/local/lib/python3.7/dist-packages/ipykernel/kernelbase.py\u001b[0m in \u001b[0;36mraw_input\u001b[0;34m(self, prompt)\u001b[0m\n\u001b[1;32m    702\u001b[0m             \u001b[0mself\u001b[0m\u001b[0;34m.\u001b[0m\u001b[0m_parent_ident\u001b[0m\u001b[0;34m,\u001b[0m\u001b[0;34m\u001b[0m\u001b[0;34m\u001b[0m\u001b[0m\n\u001b[1;32m    703\u001b[0m             \u001b[0mself\u001b[0m\u001b[0;34m.\u001b[0m\u001b[0m_parent_header\u001b[0m\u001b[0;34m,\u001b[0m\u001b[0;34m\u001b[0m\u001b[0;34m\u001b[0m\u001b[0m\n\u001b[0;32m--> 704\u001b[0;31m             \u001b[0mpassword\u001b[0m\u001b[0;34m=\u001b[0m\u001b[0;32mFalse\u001b[0m\u001b[0;34m,\u001b[0m\u001b[0;34m\u001b[0m\u001b[0;34m\u001b[0m\u001b[0m\n\u001b[0m\u001b[1;32m    705\u001b[0m         )\n\u001b[1;32m    706\u001b[0m \u001b[0;34m\u001b[0m\u001b[0m\n",
            "\u001b[0;32m/usr/local/lib/python3.7/dist-packages/ipykernel/kernelbase.py\u001b[0m in \u001b[0;36m_input_request\u001b[0;34m(self, prompt, ident, parent, password)\u001b[0m\n\u001b[1;32m    732\u001b[0m             \u001b[0;32mexcept\u001b[0m \u001b[0mKeyboardInterrupt\u001b[0m\u001b[0;34m:\u001b[0m\u001b[0;34m\u001b[0m\u001b[0;34m\u001b[0m\u001b[0m\n\u001b[1;32m    733\u001b[0m                 \u001b[0;31m# re-raise KeyboardInterrupt, to truncate traceback\u001b[0m\u001b[0;34m\u001b[0m\u001b[0;34m\u001b[0m\u001b[0;34m\u001b[0m\u001b[0m\n\u001b[0;32m--> 734\u001b[0;31m                 \u001b[0;32mraise\u001b[0m \u001b[0mKeyboardInterrupt\u001b[0m\u001b[0;34m\u001b[0m\u001b[0;34m\u001b[0m\u001b[0m\n\u001b[0m\u001b[1;32m    735\u001b[0m             \u001b[0;32melse\u001b[0m\u001b[0;34m:\u001b[0m\u001b[0;34m\u001b[0m\u001b[0;34m\u001b[0m\u001b[0m\n\u001b[1;32m    736\u001b[0m                 \u001b[0;32mbreak\u001b[0m\u001b[0;34m\u001b[0m\u001b[0;34m\u001b[0m\u001b[0m\n",
            "\u001b[0;31mKeyboardInterrupt\u001b[0m: "
          ]
        }
      ],
      "source": [
        "#JSON-搜尋:關鍵字+頁碼\n",
        "import requests\n",
        "import json\n",
        "import prettytable\n",
        "from IPython.display import clear_output\n",
        "\n",
        "kw = input('關鍵字:')\n",
        "p = 1\n",
        "\n",
        "while True:\n",
        "  clear_output()\n",
        "  req = requests.get(\n",
        "      'https://ecshweb.pchome.com.tw/search/v3.3/all/results',\n",
        "      headers={\n",
        "          'User-Agent': 'Mozilla/5.0 (Windows NT 10.0; Win64; x64) AppleWebKit/537.36 (KHTML, like Gecko) Chrome/101.0.4951.54 Safari/537.36',\n",
        "          'Referer': 'https://data.gov.tw/datasets/search?p=1&size=10&rct=285&rafft=6410',\n",
        "          'Cookie': '_ga=GA1.3.253445803.1652016416; auth.strategy=local; _gid=GA1.3.1823959815.1652333736',\n",
        "      },\n",
        "      params={\n",
        "          'q': kw,\n",
        "          'page': p,\n",
        "          'sort': 'sale/dc',\n",
        "      },\n",
        "      data={},\n",
        "  )\n",
        "  ret = json.loads(req.text)\n",
        "\n",
        "  p1 = prettytable.PrettyTable(['名稱','價格'], encoding='utf-8')\n",
        "  for dd in ret['prods']:\n",
        "    p1.add_row([dd['name'], dd['price']])\n",
        "\n",
        "  p1.align='l'\n",
        "  print(p1)\n",
        "\n",
        "  p = input('前往頁碼:')"
      ]
    }
  ]
}