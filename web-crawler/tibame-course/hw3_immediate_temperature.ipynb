{
  "nbformat": 4,
  "nbformat_minor": 0,
  "metadata": {
    "colab": {
      "provenance": [],
      "collapsed_sections": []
    },
    "kernelspec": {
      "name": "python3",
      "display_name": "Python 3"
    },
    "language_info": {
      "name": "python"
    }
  },
  "cells": [
    {
      "cell_type": "code",
      "execution_count": null,
      "metadata": {
        "id": "fZGXd3QhijxZ",
        "colab": {
          "base_uri": "https://localhost:8080/"
        },
        "outputId": "7a48a084-4605-493a-b1b8-c4fe568361ae"
      },
      "outputs": [
        {
          "output_type": "stream",
          "name": "stdout",
          "text": [
            "[<th scope=\"row\">基隆市</th>, <th scope=\"row\">臺北市</th>, <th scope=\"row\">新北市</th>, <th scope=\"row\">桃園市</th>, <th scope=\"row\" valign=\"top\">新竹市</th>, <th scope=\"row\">新竹縣</th>, <th scope=\"row\">苗栗縣</th>, <th scope=\"row\" valign=\"top\">臺中市</th>, <th scope=\"row\" valign=\"top\">彰化縣</th>, <th scope=\"row\">南投縣</th>, <th scope=\"row\">雲林縣</th>, <th scope=\"row\">嘉義市</th>, <th scope=\"row\">嘉義縣</th>, <th scope=\"row\">臺南市</th>, <th scope=\"row\">高雄市</th>, <th scope=\"row\">屏東縣</th>, <th scope=\"row\">宜蘭縣</th>, <th scope=\"row\">花蓮縣</th>, <th scope=\"row\">臺東縣</th>, <th scope=\"row\">澎湖縣</th>, <th scope=\"row\">金門縣</th>, <th scope=\"row\">連江縣</th>]\n",
            "基隆市\n",
            "臺北市\n",
            "新北市\n",
            "桃園市\n",
            "新竹市\n",
            "新竹縣\n",
            "苗栗縣\n",
            "臺中市\n",
            "彰化縣\n",
            "南投縣\n",
            "雲林縣\n",
            "嘉義市\n",
            "嘉義縣\n",
            "臺南市\n",
            "高雄市\n",
            "屏東縣\n",
            "宜蘭縣\n",
            "花蓮縣\n",
            "臺東縣\n",
            "澎湖縣\n",
            "金門縣\n",
            "連江縣\n"
          ]
        }
      ],
      "source": [
        "import requests\n",
        "import prettytable\n",
        "from bs4 import BeautifulSoup\n",
        "\n",
        "r1 = requests.get(\n",
        "    'https://www.cwb.gov.tw/V8/C/W/TemperatureTop/County_TMax_T.html',\n",
        "    headers={\n",
        "        'User-Agent': 'Mozilla/5.0 (Windows NT 10.0; Win64; x64) AppleWebKit/537.36 (KHTML, like Gecko) Chrome/101.0.4951.54 Safari/537.36',\n",
        "        'Referer': 'https://data.gov.tw/datasets/search?p=1&size=10&rct=285&rafft=6410',\n",
        "        'Cookie': '_ga=GA1.3.253445803.1652016416; auth.strategy=local; _gid=GA1.3.1823959815.1652333736',\n",
        "    },\n",
        "    params={\n",
        "        'ID': 'Fri May 13 2022 17:10:15 GMT 0800 (台北標準時間)'\n",
        "    },\n",
        ")\n",
        "p1 = BeautifulSoup(r1.text, 'html.parser')\n",
        "# print(p1)\n",
        "ret = p1.find_all('th',{'scope': 'row'})\n",
        "print(ret)\n",
        "\n",
        "for dd in ret:\n",
        "  print(dd.text)\n",
        "  # print(\n",
        "  #     dd.parent.find('span',{'class': 'small-gray-text'}).text,\n",
        "  #     dd.text\n",
        "  # )\n"
      ]
    },
    {
      "cell_type": "code",
      "source": [
        "import requests\n",
        "import prettytable\n",
        "from bs4 import BeautifulSoup\n",
        "\n",
        "r1 = requests.get(\n",
        "    'https://www.cwb.gov.tw/V8/C/W/TemperatureTop/County_TMax_T.html',\n",
        "    headers={\n",
        "        'User-Agent': 'Mozilla/5.0 (Windows NT 10.0; Win64; x64) AppleWebKit/537.36 (KHTML, like Gecko) Chrome/101.0.4951.54 Safari/537.36',\n",
        "        'Referer': 'https://data.gov.tw/datasets/search?p=1&size=10&rct=285&rafft=6410',\n",
        "        'Cookie': '_ga=GA1.3.253445803.1652016416; auth.strategy=local; _gid=GA1.3.1823959815.1652333736',\n",
        "    }\n",
        ")\n",
        "p1 = BeautifulSoup(r1.text, 'html.parser')\n",
        "# print(p1)\n",
        "ret = p1.find_all('th',{'scope': 'row'})\n",
        "# print(ret)\n",
        "p2 = prettytable.PrettyTable(['地區','氣溫'], encoding='utf-8')\n",
        "for dd in ret:\n",
        "  # print(\n",
        "  #     dd.text,\n",
        "  #     dd.parent.find('span',{'class': 'tem-C is-active'}).text\n",
        "  # )\n",
        "  p2.add_row([dd.text, dd.parent.find('span',{'class': 'tem-C is-active'}).text])\n",
        "\n",
        "print(p2)"
      ],
      "metadata": {
        "colab": {
          "base_uri": "https://localhost:8080/"
        },
        "id": "rDkosGKSuuiy",
        "outputId": "c0dee354-787b-49a8-904a-1037e02620d4"
      },
      "execution_count": null,
      "outputs": [
        {
          "output_type": "stream",
          "name": "stdout",
          "text": [
            "+--------+------+\n",
            "|  地區  | 氣溫 |\n",
            "+--------+------+\n",
            "| 基隆市 | 29.2 |\n",
            "| 臺北市 | 30.6 |\n",
            "| 新北市 | 31.5 |\n",
            "| 桃園市 | 31.1 |\n",
            "| 新竹市 | 30.3 |\n",
            "| 新竹縣 | 31.5 |\n",
            "| 苗栗縣 | 31.2 |\n",
            "| 臺中市 | 29.4 |\n",
            "| 彰化縣 | 29.7 |\n",
            "| 南投縣 | 29.0 |\n",
            "| 雲林縣 | 30.2 |\n",
            "| 嘉義市 | 31.0 |\n",
            "| 嘉義縣 | 30.6 |\n",
            "| 臺南市 | 32.9 |\n",
            "| 高雄市 | 33.7 |\n",
            "| 屏東縣 | 32.9 |\n",
            "| 宜蘭縣 | 30.4 |\n",
            "| 花蓮縣 | 31.0 |\n",
            "| 臺東縣 | 34.1 |\n",
            "| 澎湖縣 | 28.6 |\n",
            "| 金門縣 | 25.0 |\n",
            "| 連江縣 | 19.0 |\n",
            "+--------+------+\n"
          ]
        }
      ]
    },
    {
      "cell_type": "code",
      "source": [
        "import requests\n",
        "import prettytable\n",
        "from bs4 import BeautifulSoup\n",
        "\n",
        "r1 = requests.get(\n",
        "    'https://www.cwb.gov.tw/V8/C/W/TemperatureTop/County_TMax_T.html',\n",
        "    headers={\n",
        "        'User-Agent': 'Mozilla/5.0 (Windows NT 10.0; Win64; x64) AppleWebKit/537.36 (KHTML, like Gecko) Chrome/101.0.4951.54 Safari/537.36',\n",
        "        'Referer': 'https://data.gov.tw/datasets/search?p=1&size=10&rct=285&rafft=6410',\n",
        "        'Cookie': '_ga=GA1.3.253445803.1652016416; auth.strategy=local; _gid=GA1.3.1823959815.1652333736',\n",
        "    }\n",
        ")\n",
        "p1 = BeautifulSoup(r1.text, 'html.parser')\n",
        "ret = p1.find_all('th',{'scope': 'row'})\n",
        "\n",
        "p2 = prettytable.PrettyTable(['地區','氣溫'], encoding='utf-8')\n",
        "for dd in ret:\n",
        "  p2.add_row([dd.text, dd.parent.find('span',{'class': 'tem-C is-active'}).text])\n",
        "  \n",
        "print(p2)"
      ],
      "metadata": {
        "colab": {
          "base_uri": "https://localhost:8080/"
        },
        "id": "3QPvvv6NzH9h",
        "outputId": "eef2a659-7a04-4b06-b932-ccd92a337899"
      },
      "execution_count": null,
      "outputs": [
        {
          "output_type": "stream",
          "name": "stdout",
          "text": [
            "+--------+------+\n",
            "|  地區  | 氣溫 |\n",
            "+--------+------+\n",
            "| 基隆市 | 29.2 |\n",
            "| 臺北市 | 30.6 |\n",
            "| 新北市 | 31.5 |\n",
            "| 桃園市 | 31.1 |\n",
            "| 新竹市 | 30.3 |\n",
            "| 新竹縣 | 31.5 |\n",
            "| 苗栗縣 | 31.2 |\n",
            "| 臺中市 | 29.4 |\n",
            "| 彰化縣 | 29.7 |\n",
            "| 南投縣 | 29.0 |\n",
            "| 雲林縣 | 30.2 |\n",
            "| 嘉義市 | 31.0 |\n",
            "| 嘉義縣 | 30.6 |\n",
            "| 臺南市 | 32.9 |\n",
            "| 高雄市 | 33.7 |\n",
            "| 屏東縣 | 32.9 |\n",
            "| 宜蘭縣 | 30.4 |\n",
            "| 花蓮縣 | 31.0 |\n",
            "| 臺東縣 | 34.1 |\n",
            "| 澎湖縣 | 28.6 |\n",
            "| 金門縣 | 25.0 |\n",
            "| 連江縣 | 19.0 |\n",
            "+--------+------+\n"
          ]
        }
      ]
    }
  ]
}