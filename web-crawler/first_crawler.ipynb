{
  "nbformat": 4,
  "nbformat_minor": 0,
  "metadata": {
    "colab": {
      "provenance": [],
      "collapsed_sections": [],
      "authorship_tag": "ABX9TyOyTqC9AwLDKcuMrJdfSJZT",
      "include_colab_link": true
    },
    "kernelspec": {
      "name": "python3",
      "display_name": "Python 3"
    },
    "language_info": {
      "name": "python"
    }
  },
  "cells": [
    {
      "cell_type": "markdown",
      "metadata": {
        "id": "view-in-github",
        "colab_type": "text"
      },
      "source": [
        "<a href=\"https://colab.research.google.com/github/RabbitKM/exercise-python/blob/main/web-crawler/first_crawler.ipynb\" target=\"_parent\"><img src=\"https://colab.research.google.com/assets/colab-badge.svg\" alt=\"Open In Colab\"/></a>"
      ]
    },
    {
      "cell_type": "code",
      "source": [
        "import requests"
      ],
      "metadata": {
        "id": "b3WdP-90LyKx"
      },
      "execution_count": null,
      "outputs": []
    },
    {
      "cell_type": "code",
      "source": [
        "url = 'https://ecshweb.pchome.com.tw/search/v3.3/all/results?q=盒玩&page=1&sort=sale/dc'\n",
        "\n",
        "res = requests.get(url)\n",
        "print(res)\n",
        "print(res.status_code)\n",
        "#404 網頁狀態碼"
      ],
      "metadata": {
        "colab": {
          "base_uri": "https://localhost:8080/"
        },
        "id": "4QN1GAWOL3LY",
        "outputId": "8348964d-7cca-4214-8b3c-5bfcce75c75e"
      },
      "execution_count": null,
      "outputs": [
        {
          "output_type": "stream",
          "name": "stdout",
          "text": [
            "<Response [200]>\n",
            "200\n"
          ]
        }
      ]
    },
    {
      "cell_type": "code",
      "source": [
        "# JSON字串轉字典\n",
        "res_dict = res.json()"
      ],
      "metadata": {
        "colab": {
          "base_uri": "https://localhost:8080/"
        },
        "id": "x6U0T-uINTap",
        "outputId": "df009f9c-30fb-4b45-f17c-9226a25ed65a"
      },
      "execution_count": null,
      "outputs": [
        {
          "output_type": "stream",
          "name": "stdout",
          "text": [
            "<class 'requests.models.Response'>\n",
            "{\"QTime\":17,\"totalRows\":1735,\"totalPage\":87,\"range\":{\"min\":\"\",\"max\":\"\"},\"cateName\":\"\",\"q\":\"\\u76d2\\u73a9\",\"subq\":\"\",\"token\":[\"\\u76d2\\u73a9\",\"\\u76d2\",\"\\u73a9\"],\"isMust\":1,\"prods\":[{\"Id\":\"DEASL7-A900BA5JK\",\"cateId\":\"DEASKS\",\"picS\":\"\\/items\\/DEASL7A900BA5JK\\/000001_1619086921.jpg\",\"picB\":\"\\/items\\/DEASL7A900BA5JK\\/000001_1619086921.jpg\",\"name\":\"Skullpanda\\u718a\\u8c93\\u71b1\\u6f6e\\u7cfb\\u5217\\u516c\\u4ed4\\u76d2\\u73a9(12\\u5165\\u76d2\\u88dd)\",\"describe\":\"Skullpanda\\u718a\\u8c93\\u71b1\\u6f6e\\u7cfb\\u5217\\u516c\\u4ed4\\u76d2\\u73a9(12\\u5165\\u76d2\\u88dd)\\\\r\\\\n\\u26062021 4 30 00:00 \\u9650\\u91cf\\u958b\\u8ce3!\\u8981\\u6436\\u8981\\u5feb!\\u2606\\r\\n\\r\\n\\u4e00\\u4eba\\u9650\\u8cfc\\u4e00\\u4e2d\\u76d2\",\"price\":3960,\"originPrice\":3960,\"author\":\"\",\"brand\":\"\",\"publishDate\":\"\",\"sellerId\":\"\",\"isPChome\":1,\"isNC17\":0,\"couponActid\":[],\"BU\":\"ec\"},{\"Id\":\"DEASKS-A900BD155\",\"cateId\":\"DEASKS\",\"picS\":\"\\/items\\/DEASKSA900BD155\\/000001_1621248574.jpg\",\"picB\":\"\\/items\\/DEASKSA900BD155\\/000001_1621248574.jpg\",\"name\":\"Molly\\u8309\\u8389\\u5973\\u5b69 X \\u5927\\u4e45\\u4fdd\\u806f\\u540d\\u7cfb\\u5217\\u516c\\u4ed4\\u76d2\\u73a9(12\\u5165\\u76d2\\u88dd)\",\"describe\":\"5\\/23 10:00\\u25bc\\u6e96\\u6642\\u958b\\u8ce3Molly\\u8309\\u8389\\u5973\\u5b69 X \\u5927\\u4e45\\u4fdd\\u806f\\u540d\\u7cfb\\u5217\\u516c\\u4ed4\\u76d2\\u73a9(12\\u5165\\u76d2\\u88dd)\\\\r\\\\n\",\"price\":4440,\"originPrice\":4440,\"author\":\"\",\"brand\":\"\",\"publishDate\":\"\",\"sellerId\":\"\",\"isPChome\":1,\"isNC17\":0,\"couponActid\":[],\"BU\":\"ec\"},{\"Id\":\"DEBAGT-A900BXZL0\",\"cateId\":\"DEBAGT\",\"picS\":\"\\/items\\/DEBAGTA900BXZL0\\/000001_1635906655.jpg\",\"picB\":\"\\/items\\/DEBAGTA900BXZL0\\/000001_1635906655.jpg\",\"name\":\"\\u3010AOTTO\\u3011\\u591a\\u529f\\u80fd\\u78c1\\u5438\\u649e\\u8272\\u76d2\\u73a9\\u6536\\u85cf\\u6536\\u7d0d\\u7bb1 \\u5c55\\u793a\\u7bb1-3\\u5165(\\u4e09\\u8272\\u53ef\\u9078)\",\"describe\":\"\\u3010AOTTO\\u3011\\u591a\\u529f\\u80fd\\u78c1\\u5438\\u649e\\u8272\\u76d2\\u73a9\\u6536\\u85cf\\u6536\\u7d0d\\u7bb1 \\u5c55\\u793a\\u7bb1-3\\u5165(\\u4e09\\u8272\\u53ef\\u9078)\\\\r\\\\n\\u78c1\\u5438\\u958b\\u9580\\u8a2d\\u8a08 \\u65b9\\u4fbf\\u62ff\\u53d6\\r\\n\\u5927\\u5bb9\\u91cf \\u900f\\u660e\\u53ef\\u8996 \\u81ea\\u7531\\u758a\\u52a0\\r\\n\\u9644\\u5206\\u5c64\\u9694\\u677f \\u9748\\u6d3b\\u62c6\\u5378 \\u591a\\u6a23\\u5316\",\"price\":1180,\"originPrice\":1180,\"author\":\"\",\"brand\":\"\",\"publishDate\":\"\",\"sellerId\":\"\",\"isPChome\":1,\"isNC17\":0,\"couponActid\":[],\"BU\":\"ec\"},{\"Id\":\"DEASKS-A900BYC54\",\"cateId\":\"DEASKS\",\"picS\":\"\\/items\\/DEASKSA900BYC54\\/000001_1636098388.jpg\",\"picB\":\"\\/items\\/DEASKSA900BYC54\\/000001_1636098388.jpg\",\"name\":\"Skullpanda\\u7cd6\\u679c\\u602a\\u7269\\u5c0f\\u93ae\\u7cfb\\u5217\\u516c\\u4ed4\\u76d2\\u73a9(12\\u5165\\u76d2\\u88dd)\",\"describe\":\"Skullpanda\\u7cd6\\u679c\\u602a\\u7269\\u5c0f\\u93ae\\u7cfb\\u5217\\u516c\\u4ed4\\u76d2\\u73a9(12\\u5165\\u76d2\\u88dd)\\\\r\\\\n\",\"price\":3960,\"originPrice\":3960,\"author\":\"\",\"brand\":\"\",\"publishDate\":\"\",\"sellerId\":\"\",\"isPChome\":1,\"isNC17\":0,\"couponActid\":[],\"BU\":\"ec\"},{\"Id\":\"DECU1P-A900B19BE\",\"cateId\":\"DECU1P\",\"picS\":\"\\/items\\/DECU1PA900B19BE\\/000001_1625110521.jpg\",\"picB\":\"\\/items\\/DECU1PA900B19BE\\/000001_1625110521.jpg\",\"name\":\"GARMMA LINE FRIENDS PONGPONG\\u7cfb\\u5217 \\u76d2\\u73a9\\u516c\\u4ed4(\\u4e00\\u59576\\u96bb\\u4e0d\\u91cd\\u8907)\",\"describe\":\"GARMMA LINE FRIENDS PONGPONG\\u7cfb\\u5217 \\u76d2\\u73a9\\u516c\\u4ed4(\\u4e00\\u59576\\u96bb\\u4e0d\\u91cd\\u8907)\\\\r\\\\n\\u2605\\u53ef\\u611bpongpong\\u7cfb\\u5217\\u516c\\u4ed4\\r\\n\\u25a0\\u97d3\\u570bline friends\\u6b63\\u7248\\u6388\\u6b0a\\r\\n\\u25a0\\u9650\\u91cf\\u767c\\u552e \\u9a5a\\u559c\\u4e0a\\u5e02\\r\\n\\u25a0\\u53ef\\u611b\\u7642\\u7652\\u5c0f\\u7269 \\u6bcf\\u5929\\u90fd\\u6709\\u597d\\u5fc3\\u60c5\\r\\n\\u25a0\\u672c\\u7cfb\\u52176\\u6b3e+2\\u6b3e\\u96b1\\u85cf\\u7248\\u8207\\u9ec3\\u91d1\\u96b1\\u85cf\\u7248\\r\\n\\u25a0\\u96b1\\u85cf\\u7248\\u8207\\u9ec3\\u91d1\\u96b1\\u85cf\\u7248\\u6709\\u4e00\\u5b9a\\u6a5f\\u7387\\u51fa\\u73fe\",\"price\":1740,\"originPrice\":1740,\"author\":\"\",\"brand\":\"\",\"publishDate\":\"\",\"sellerId\":\"\",\"isPChome\":1,\"isNC17\":0,\"couponActid\":[\"C026880\"],\"BU\":\"ec\"},{\"Id\":\"DEDG0K-A900BRT3T\",\"cateId\":\"DEDG0K\",\"picS\":\"\\/items\\/DEDG0KA900BRT3T\\/000001_1631594065.jpg\",\"picB\":\"\\/items\\/DEDG0KA900BRT3T\\/000001_1631594065.jpg\",\"name\":\"RE-MENT\\u7cbe\\u9748\\u5bf6\\u53ef\\u5922\\u76c6\\u666f\\u795e\\u5947\\u5bf6\\u8c9d\\u7403\\u76c6\\u76d2\\u73a9\\u5177P6\\u51686\\u7a2e204772\\u76ae\\u5361\\u4e18\\u7f8e\\u9e97\\u82b1\\u708e\\u5e1d\\u5c0f\\u78c1\\u602a\",\"describe\":\"\\u3010\\u5357\\u7d21\\u8cfc\\u7269\\u4e2d\\u5fc3\\u3011 \\u65e5RE-MENT\\u7cbe\\u9748\\u5bf6\\u53ef\\u5922\\u76c6\\u666f\\u795e\\u5947\\u5bf6\\u8c9d\\u7403\\u76c6\\u666f\\u54c1\\u76d2\\u73a9\\u5177\\u51686\\u7a2eP6\\u76ae\\u5361\\u4e18\\u7f8e\\u9e97\\u82b1\\u708e\\u5e1d\\u5922\\u5e7b\\u679c\\u7136\\u7fc1\\u6728\\u5b88\\u5bab\\u5c0f\\u78c1\\u602a204772\\\\r\\\\n\\u65e5\\u672cre-ment\\u7cbe\\u9748\\u5bf6\\u53ef\\u5922\\u76c6\\u666f\\u795e\\u5947\\u5bf6\\u8c9d\\u7403\\u76c6\\u76d2\\u73a9\\u5177p6\\u51686\\u7a2e4521121204772\",\"price\":1899,\"originPrice\":1899,\"author\":\"\",\"brand\":\"\",\"publishDate\":\"\",\"sellerId\":\"\",\"isPChome\":1,\"isNC17\":0,\"couponActid\":[\"C026559\",\"C026880\",\"C026573\",\"C026564\"],\"BU\":\"ec\"},{\"Id\":\"DEASKS-A900BW0S6\",\"cateId\":\"DEASKS\",\"picS\":\"\\/items\\/DEASKSA900BW0S6\\/000001_1634562727.jpg\",\"picB\":\"\\/items\\/DEASKSA900BW0S6\\/000001_1634562727.jpg\",\"name\":\"\\u5c0f\\u751c\\u8c46\\u8d85\\u5e022\\u7cfb\\u5217\\u516c\\u4ed4\\u76d2\\u73a9(12\\u5165\\u76d2\\u88dd)\",\"describe\":\"\\u5c0f\\u751c\\u8c46\\u8d85\\u5e022\\u7cfb\\u5217\\u516c\\u4ed4\\u76d2\\u73a9(12\\u5165\\u76d2\\u88dd)\\\\r\\\\n\",\"price\":3360,\"originPrice\":3360,\"author\":\"\",\"brand\":\"\",\"publishDate\":\"\",\"sellerId\":\"\",\"isPChome\":1,\"isNC17\":0,\"couponActid\":[],\"BU\":\"ec\"},{\"Id\":\"DEBAGT-A900BXZKY\",\"cateId\":\"DEBAGT\",\"picS\":\"\\/items\\/DEBAGTA900BXZKY\\/000001_1635906567.jpg\",\"picB\":\"\\/items\\/DEBAGTA900BXZKY\\/000001_1635906567.jpg\",\"name\":\"\\u3010AOTTO\\u3011\\u591a\\u529f\\u80fd\\u78c1\\u5438\\u649e\\u8272\\u76d2\\u73a9\\u6536\\u85cf\\u6536\\u7d0d\\u7bb1 \\u5c55\\u793a\\u7bb1-1\\u5165(\\u4e09\\u8272\\u53ef\\u9078)\",\"describe\":\"\\u3010AOTTO\\u3011\\u591a\\u529f\\u80fd\\u78c1\\u5438\\u649e\\u8272\\u76d2\\u73a9\\u6536\\u85cf\\u6536\\u7d0d\\u7bb1 \\u5c55\\u793a\\u7bb1-1\\u5165(\\u4e09\\u8272\\u53ef\\u9078)\\\\r\\\\n\\u78c1\\u5438\\u958b\\u9580\\u8a2d\\u8a08 \\u65b9\\u4fbf\\u62ff\\u53d6\\r\\n\\u5927\\u5bb9\\u91cf \\u900f\\u660e\\u53ef\\u8996 \\u81ea\\u7531\\u758a\\u52a0\\r\\n\\u9644\\u5206\\u5c64\\u9694\\u677f \\u9748\\u6d3b\\u62c6\\u5378 \\u591a\\u6a23\\u5316\",\"price\":590,\"originPrice\":590,\"author\":\"\",\"brand\":\"\",\"publishDate\":\"\",\"sellerId\":\"\",\"isPChome\":1,\"isNC17\":0,\"couponActid\":[],\"BU\":\"ec\"},{\"Id\":\"DEASKS-A900BMYVM\",\"cateId\":\"DEASKS\",\"picS\":\"\\/items\\/DEASKSA900BMYVM\\/000001_1628166306.jpg\",\"picB\":\"\\/items\\/DEASKSA900BMYVM\\/000001_1628166306.jpg\",\"name\":\"\\u5c0f\\u751c\\u8c46\\u79cb\\u8449\\u539f\\u7cfb\\u5217\\u516c\\u4ed4\\u76d2\\u73a9(12\\u5165\\u76d2\\u88dd)\",\"describe\":\"\\u5c0f\\u751c\\u8c46\\u79cb\\u8449\\u539f\\u7cfb\\u5217\\u516c\\u4ed4\\u76d2\\u73a9(12\\u5165\\u76d2\\u88dd)\\\\r\\\\n\",\"price\":3195,\"originPrice\":3195,\"author\":\"\",\"brand\":\"\",\"publishDate\":\"\",\"sellerId\":\"\",\"isPChome\":1,\"isNC17\":0,\"couponActid\":[],\"BU\":\"ec\"},{\"Id\":\"DEASKS-A900BPQ1J\",\"cateId\":\"DEASKS\",\"picS\":\"\\/items\\/DEASKSA900BPQ1J\\/000001_1630209866.jpg\",\"picB\":\"\\/items\\/DEASKSA900BPQ1J\\/000001_1630209866.jpg\",\"name\":\"YUKI \\u9032\\u5316\\u8ad6\\u7cfb\\u5217\\u516c\\u4ed4\\u76d2\\u73a9(\\u5169\\u5165\\u96a8\\u6a5f\\u6b3e)\",\"describe\":\"YUKI \\u9032\\u5316\\u8ad6\\u7cfb\\u5217\\u516c\\u4ed4\\u76d2\\u73a9(\\u5169\\u5165\\u96a8\\u6a5f\\u6b3e)\\\\r\\\\n\",\"price\":560,\"originPrice\":560,\"author\":\"\",\"brand\":\"\",\"publishDate\":\"\",\"sellerId\":\"\",\"isPChome\":1,\"isNC17\":0,\"couponActid\":[],\"BU\":\"ec\"},{\"Id\":\"DEAS8T-A900BY77O\",\"cateId\":\"DEAS8T\",\"picS\":\"\\/items\\/DEAS8TA900BY77O\\/000001_1636015201.jpg\",\"picB\":\"\\/items\\/DEAS8TA900BY77O\\/000001_1636015201.jpg\",\"name\":\"\\u65e5\\u8ca8\\u76d2\\u73a9 \\u9b3c\\u6ec5\\u4e4b\\u5203 WCF VOL.1\",\"describe\":\"\\u65e5\\u8ca8\\u76d2\\u73a9 \\u9b3c\\u6ec5\\u4e4b\\u5203 WCF  VOL.1\\\\r\\\\n\\u6b63\\u7248\\u65e5\\u8ca8 \\u73a9\\u5076\\u516c\\u4ed4\\u54c1\\u8cea\\u7cbe\\u7f8e\\r\\n\\u5287\\u60c5\\u8718\\u86db\\u5c71\\u4e3b\\u8981\\u89d2\\u8272\\u4eba\\u7269\\r\\n\\u570b\\u5167\\u5546\\u6aa2\\u5408\\u683c\\u5b57\\u865f m33559 \\r\\n\\u9650\\u91cf\\u767c\\u552e \\u503c\\u5f97\\u73cd\\u85cf\",\"price\":1380,\"originPrice\":1380,\"author\":\"\",\"brand\":\"\",\"publishDate\":\"\",\"sellerId\":\"\",\"isPChome\":1,\"isNC17\":0,\"couponActid\":[\"C026859\",\"C026880\",\"C026896\",\"C026858\",\"C026897\",\"C026898\"],\"BU\":\"ec\"},{\"Id\":\"DEASKS-A900BYBRQ\",\"cateId\":\"DEASKS\",\"picS\":\"\\/items\\/DEASKSA900BYBRQ\\/000001_1636095151.jpg\",\"picB\":\"\\/items\\/DEASKSA900BYBRQ\\/000001_1636095151.jpg\",\"name\":\"DC\\u6b63\\u7fa9\\u806f\\u76df\\u7cfb\\u5217\\u516c\\u4ed4\\u76d2\\u73a9(12\\u5165\\u76d2\\u88dd)\",\"describe\":\"DC\\u6b63\\u7fa9\\u806f\\u76df\\u7cfb\\u5217\\u516c\\u4ed4\\u76d2\\u73a9(12\\u5165\\u76d2\\u88dd)\\\\r\\\\n\",\"price\":3360,\"originPrice\":3360,\"author\":\"\",\"brand\":\"\",\"publishDate\":\"\",\"sellerId\":\"\",\"isPChome\":1,\"isNC17\":0,\"couponActid\":[],\"BU\":\"ec\"},{\"Id\":\"DEASKS-A900BYBXP\",\"cateId\":\"DEASKS\",\"picS\":\"\\/items\\/DEASKSA900BYBXP\\/000001_1636096555.jpg\",\"picB\":\"\\/items\\/DEASKSA900BYBXP\\/000001_1636096555.jpg\",\"name\":\"FLABJACKS\\u5947\\u601d\\u5999\\u60f3\\u5c0f\\u690d\\u7269\\u7cfb\\u5217\\u516c\\u4ed4\\u76d2\\u73a9(10\\u5165\\u76d2\\u88dd)\",\"describe\":\"FLABJACKS\\u5947\\u601d\\u5999\\u60f3\\u5c0f\\u690d\\u7269\\u7cfb\\u5217\\u516c\\u4ed4\\u76d2\\u73a9(10\\u5165\\u76d2\\u88dd)\\\\r\\\\n\",\"price\":2671,\"originPrice\":2671,\"author\":\"\",\"brand\":\"\",\"publishDate\":\"\",\"sellerId\":\"\",\"isPChome\":1,\"isNC17\":0,\"couponActid\":[],\"BU\":\"ec\"},{\"Id\":\"DEAS8T-A900BNHL7\",\"cateId\":\"DEAS8T\",\"picS\":\"\\/items\\/DEAS8TA900BNHL7\\/000001_1628581057.jpg\",\"picB\":\"\\/items\\/DEAS8TA900BNHL7\\/000001_1628581057.jpg\",\"name\":\"MAX LIMITED \\u9b3c\\u6ec5\\u4e4b\\u5203 \\u62b1\\u62b1\\u89d2\\u8272 \\u73a9\\u5076\\u6536\\u85cf\\u96c6 \\u76d2\\u73a9 6\\u5165\\u4e00\\u4e2d\\u76d2\",\"describe\":\"MAX LIMITED \\u9b3c\\u6ec5\\u4e4b\\u5203 \\u62b1\\u62b1\\u89d2\\u8272 \\u73a9\\u5076\\u6536\\u85cf\\u96c6 \\u76d2\\u73a9 6\\u5165\\u4e00\\u4e2d\\u76d2 \\/ \\u73a9\\u5076 \\/ \\u540a\\u98fe \\/ \\u593e\\u624b\\u5076\\\\r\\\\n\\u6b63\\u7248\\u6388\\u6b0a\\u5546\\u54c1\\r\\n\\u5167\\u542b\\u89d2\\u8272\\uff1a\\u7ac8\\u9580\\u70ad\\u6cbb\\u90ce \\u7ac8\\u9580\\u79b0\\u8c46\\u5b50 \\u6211\\u59bb\\u5584\\u9038 \\u5634\\u5e73\\u4f0a\\u4e4b\\u52a9 \\u51a8\\u5ca1\\u7fa9\\u52c7  \\u9306\\u514e\\r\\n\\r\\n\\u8acb\\u7559\\u610f\\uff1a\\u6b64\\u70ba\\u6536\\u85cf\\u516c\\u4ed4\\uff0c\\u5916\\u76d2\\u8996\\u70ba\\u5546\\u54c1\\u50f9\\u503c\\u7684\\u4e00\\u90e8\\u5206\\uff0c\\u5982\\u5c1a\\u672a\\u78ba\\u8a8d\\u8cfc\\u8cb7\\u610f\\u9858\\uff0c\\u8acb\\u52ff\\u62c6\\u76d2\\uff0c\\u8b1d\\u8b1d\",\"price\":1899,\"originPrice\":1899,\"author\":\"\",\"brand\":\"\",\"publishDate\":\"\",\"sellerId\":\"\",\"isPChome\":1,\"isNC17\":0,\"couponActid\":[\"C026880\",\"C026896\",\"C026897\",\"C026898\"],\"BU\":\"ec\"},{\"Id\":\"DEASL7-A900BXHIX\",\"cateId\":\"DEASL7\",\"picS\":\"\\/items\\/DEASL7A900BXHIX\\/000001_1635496949.jpg\",\"picB\":\"\\/items\\/DEASL7A900BXHIX\\/000001_1635496949.jpg\",\"name\":\"Re-ment \\u512a\\u52dd\\uff01\\u4e00\\u500b\\u4eba\\u7684\\u55ae\\u8eab\\u98ef \\u76d2\\u73a9 1\\u4e2d\\u76d28\\u5165 \\u4ee3\\u7406\",\"describe\":\"Re-ment \\u512a\\u52dd\\uff01\\u4e00\\u500b\\u4eba\\u7684\\u55ae\\u8eab\\u98ef \\u76d2\\u73a9 1\\u4e2d\\u76d28\\u5165 \\u4ee3\\u7406\\\\r\\\\n\\u8d85\\u53d7\\u671f\\u5f85\\u7684\\u52d5\\u6f2b\\u96fb\\u73a9\\u89d2\\u8272\\r\\n\\u8d85\\u7cbe\\u7dfb\\u5857\\u88dd\\u8207\\u8d85\\u8c50\\u5bcc\\u7cbe\\u7d30\\u914d\\u4ef6\",\"price\":1599,\"originPrice\":1599,\"author\":\"\",\"brand\":\"\",\"publishDate\":\"\",\"sellerId\":\"\",\"isPChome\":1,\"isNC17\":0,\"couponActid\":[\"C026880\"],\"BU\":\"ec\"},{\"Id\":\"DEASL7-A900B36R6\",\"cateId\":\"DEASL7\",\"picS\":\"\\/items\\/DEASL7A900B36R6\\/000001_1610209677.jpg\",\"picB\":\"\\/items\\/DEASL7A900B36R6\\/000001_1610209677.jpg\",\"name\":\"\\u975e\\u4eba\\u54c9\\u767c\\u5446\\u54ea\\u5412\\u6d77\\u4e0a\\u5c0b\\u5bf6\\u7cfb\\u5217\\u516c\\u4ed4\\u76d2\\u73a9 (9\\u5165\\u76d2\\u88dd)\",\"describe\":\"\\u975e\\u4eba\\u54c9\\u767c\\u5446\\u54ea\\u5412\\u6d77\\u4e0a\\u5c0b\\u5bf6\\u7cfb\\u5217\\u516c\\u4ed4\\u76d2\\u73a9 (9\\u5165\\u76d2\\u88dd)\\\\r\\\\n\\u767c\\u5446\\u54ea\\u5412\\u5316\\u8eab\\u70ba\\u5927\\u6d77\\u4e0a\\u6700\\u81ea\\u7531\\u7684\\u5192\\u96aa\\u5bb6\\r\\n\\u51fa\\u767c\\u5c0b\\u627e\\u6df1\\u6df5\\u88e1\\u7684\\u5bf6\\u85cf\\r\\n\\u9858\\u4f60\\u4e5f\\u80fd\\u8ddf\\u8457\\u767c\\u5446\\u54ea\\u5412\\r\\n\\u627e\\u5230\\u5c6c\\u65bc\\u81ea\\u5df1\\u90a3\\u7247\\u81ea\\u7531\\u7121\\u6182\\u7684\\u5927\\u6d77\\r\\n\\u4eca\\u591c\\u597d\\u5922\",\"price\":2823,\"originPrice\":2823,\"author\":\"\",\"brand\":\"\",\"publishDate\":\"\",\"sellerId\":\"\",\"isPChome\":1,\"isNC17\":0,\"couponActid\":[],\"BU\":\"ec\"},{\"Id\":\"DEASKS-A900BKFP7\",\"cateId\":\"DEASKS\",\"picS\":\"\\/items\\/DEASKSA900BKFP7\\/000001_1626262694.jpg\",\"picB\":\"\\/items\\/DEASKSA900BKFP7\\/000001_1626262694.jpg\",\"name\":\"ZOE\\u6c34\\u679c\\u661f\\u7403\\u7cfb\\u5217\\u516c\\u4ed4\\u76d2\\u73a9(12\\u5165\\u76d2\\u88dd)\",\"describe\":\"ZOE\\u6c34\\u679c\\u661f\\u7403\\u7cfb\\u5217\\u516c\\u4ed4\\u76d2\\u73a9(12\\u5165\\u76d2\\u88dd)\\\\r\\\\n\",\"price\":3360,\"originPrice\":3360,\"author\":\"\",\"brand\":\"\",\"publishDate\":\"\",\"sellerId\":\"\",\"isPChome\":1,\"isNC17\":0,\"couponActid\":[],\"BU\":\"ec\"},{\"Id\":\"DEASKS-A900BBQ1J\",\"cateId\":\"DEASKS\",\"picS\":\"\\/items\\/DEASKSA900BBQ1J\\/000001_1620215310.jpg\",\"picB\":\"\\/items\\/DEASKSA900BBQ1J\\/000001_1620215310.jpg\",\"name\":\"LABUBU\\u6d77\\u7dbf\\u5bf6\\u5bf6\\u7cfb\\u5217\\u516c\\u4ed4\\u76d2\\u73a9(12\\u5165\\u76d2\\u88dd)\",\"describe\":\"LABUBU\\u6d77\\u7dbf\\u5bf6\\u5bf6\\u7cfb\\u5217\\u516c\\u4ed4\\u76d2\\u73a9(12\\u5165\\u76d2\\u88dd)\\\\r\\\\n\",\"price\":3778,\"originPrice\":3778,\"author\":\"\",\"brand\":\"\",\"publishDate\":\"\",\"sellerId\":\"\",\"isPChome\":1,\"isNC17\":0,\"couponActid\":[],\"BU\":\"ec\"},{\"Id\":\"DEASL7-A900AN3UK\",\"cateId\":\"DEASL7\",\"picS\":\"\\/items\\/DEASL7A900AN3UK\\/000001_1588659796.jpg\",\"picB\":\"\\/items\\/DEASL7A900AN3UK\\/000001_1588659796.jpg\",\"name\":\"StayReal \\u9f20\\u5c0f\\u5c0f\\u6f6e\\u6d41\\u7cfb\\u5217\\u516c\\u4ed4\\u76d2\\u73a9(12\\u5165\\u76d2\\u88dd)\",\"describe\":\"StayReal \\u9f20\\u5c0f\\u5c0f\\u6f6e\\u6d41\\u7cfb\\u5217\\u516c\\u4ed4\\u76d2\\u73a9(12\\u5165\\u76d2\\u88dd)\\\\r\\\\nstayreal\\u4e3b\\u7406\\u4eba\\u66a8\\u85dd\\u8853\\u5bb6\\u4e0d\\u4e8c\\u826f\\uff0c\\r\\n\\u6838\\u5fc3\\u5275\\u4f5c\\u9748\\u9b42\\u89d2\\u8272-\\u9f20\\u5c0f\\u5c0fmousylittle\\uff0c\\r\\n\\u7ae5\\u8da3\\u800c\\u8272\\u5f69\\u7e7d\\u7d1b\\uff0c\\u900f\\u904e\\u89d2\\u8272\\u626e\\u6f14\\u8b8a\\u88dd\\uff0c\\u5e36\\u7d66\\u89c0\\u773e\\u719f\\u6089\\u53c8\\u964c\\u751f\\u7684\\u89e3\\u8b80\\u6a02\\u8da3\\uff0c\\r\\n\\u4e5f\\u96b1\\u55bb\\u5728\\u7db2\\u8def\\u79d1\\u6280\\u52a0\\u6301\\u4e0b\\uff0c\\u73fe\\u4ee3\\u793e\\u6703\\u4e2d\\u6bcf\\u500b\\u4eba\\u8eab\\u4e0a\\u591a\\u89d2\\u8272\\u8207\\u8eab\\u5206\\u7684\\u91cd\\u758a\\u8207\\u4ea4\\u932f\\u3002\",\"price\":3205,\"originPrice\":3205,\"author\":\"\",\"brand\":\"\",\"publishDate\":\"\",\"sellerId\":\"\",\"isPChome\":1,\"isNC17\":0,\"couponActid\":[],\"BU\":\"ec\"},{\"Id\":\"DEASL7-A900AYDTR\",\"cateId\":\"DEASL7\",\"picS\":\"\\/items\\/DEASL7A900AYDTR\\/000001_1603883435.jpg\",\"picB\":\"\\/items\\/DEASL7A900AYDTR\\/000001_1603883435.jpg\",\"name\":\"Satyr Rory \\u6f58\\u795e\\u6d1b\\u9e97\\u590f\\u65e5\\u7cfb\\u5217\\u516c\\u4ed4\\u76d2\\u73a9(\\u55ae\\u5165\\u96a8\\u6a5f\\u6b3e)\",\"describe\":\"Satyr Rory \\u6f58\\u795e\\u6d1b\\u9e97\\u590f\\u65e5\\u7cfb\\u5217\\u516c\\u4ed4\\u76d2\\u73a9(\\u55ae\\u5165\\u96a8\\u6a5f\\u6b3e)\\\\r\\\\n\\u8207\\u6f58\\u795e\\u4e00\\u8d77\\u8d70\\u9032\\u5922\\u5e7b\\u590f\\u65e5\\u5b63\\r\\n\\u6691\\u5047\\u6700\\u7f8e\\u597d\\u7684\\u61a7\\u61ac\\r\\n\\u967d\\u5149\\u6c99\\u7058\\u6d77\\u6d6a\\r\\n\\u4e45\\u9055\\u7684\\u5929\\u771f\\u721b\\u6f2b\\r\\n\\u559a\\u8d77\\u5fc3\\u5e95\\u6700\\u67d4\\u8edf\\u7684\\u89d2\\u843d\",\"price\":267,\"originPrice\":267,\"author\":\"\",\"brand\":\"\",\"publishDate\":\"\",\"sellerId\":\"\",\"isPChome\":1,\"isNC17\":0,\"couponActid\":[],\"BU\":\"ec\"}]}\n",
            "<class 'str'>\n",
            "{'QTime': 17, 'totalRows': 1735, 'totalPage': 87, 'range': {'min': '', 'max': ''}, 'cateName': '', 'q': '盒玩', 'subq': '', 'token': ['盒玩', '盒', '玩'], 'isMust': 1, 'prods': [{'Id': 'DEASL7-A900BA5JK', 'cateId': 'DEASKS', 'picS': '/items/DEASL7A900BA5JK/000001_1619086921.jpg', 'picB': '/items/DEASL7A900BA5JK/000001_1619086921.jpg', 'name': 'Skullpanda熊貓熱潮系列公仔盒玩(12入盒裝)', 'describe': 'Skullpanda熊貓熱潮系列公仔盒玩(12入盒裝)\\\\r\\\\n☆2021 4 30 00:00 限量開賣!要搶要快!☆\\r\\n\\r\\n一人限購一中盒', 'price': 3960, 'originPrice': 3960, 'author': '', 'brand': '', 'publishDate': '', 'sellerId': '', 'isPChome': 1, 'isNC17': 0, 'couponActid': [], 'BU': 'ec'}, {'Id': 'DEASKS-A900BD155', 'cateId': 'DEASKS', 'picS': '/items/DEASKSA900BD155/000001_1621248574.jpg', 'picB': '/items/DEASKSA900BD155/000001_1621248574.jpg', 'name': 'Molly茉莉女孩 X 大久保聯名系列公仔盒玩(12入盒裝)', 'describe': '5/23 10:00▼準時開賣Molly茉莉女孩 X 大久保聯名系列公仔盒玩(12入盒裝)\\\\r\\\\n', 'price': 4440, 'originPrice': 4440, 'author': '', 'brand': '', 'publishDate': '', 'sellerId': '', 'isPChome': 1, 'isNC17': 0, 'couponActid': [], 'BU': 'ec'}, {'Id': 'DEBAGT-A900BXZL0', 'cateId': 'DEBAGT', 'picS': '/items/DEBAGTA900BXZL0/000001_1635906655.jpg', 'picB': '/items/DEBAGTA900BXZL0/000001_1635906655.jpg', 'name': '【AOTTO】多功能磁吸撞色盒玩收藏收納箱 展示箱-3入(三色可選)', 'describe': '【AOTTO】多功能磁吸撞色盒玩收藏收納箱 展示箱-3入(三色可選)\\\\r\\\\n磁吸開門設計 方便拿取\\r\\n大容量 透明可視 自由疊加\\r\\n附分層隔板 靈活拆卸 多樣化', 'price': 1180, 'originPrice': 1180, 'author': '', 'brand': '', 'publishDate': '', 'sellerId': '', 'isPChome': 1, 'isNC17': 0, 'couponActid': [], 'BU': 'ec'}, {'Id': 'DEASKS-A900BYC54', 'cateId': 'DEASKS', 'picS': '/items/DEASKSA900BYC54/000001_1636098388.jpg', 'picB': '/items/DEASKSA900BYC54/000001_1636098388.jpg', 'name': 'Skullpanda糖果怪物小鎮系列公仔盒玩(12入盒裝)', 'describe': 'Skullpanda糖果怪物小鎮系列公仔盒玩(12入盒裝)\\\\r\\\\n', 'price': 3960, 'originPrice': 3960, 'author': '', 'brand': '', 'publishDate': '', 'sellerId': '', 'isPChome': 1, 'isNC17': 0, 'couponActid': [], 'BU': 'ec'}, {'Id': 'DECU1P-A900B19BE', 'cateId': 'DECU1P', 'picS': '/items/DECU1PA900B19BE/000001_1625110521.jpg', 'picB': '/items/DECU1PA900B19BE/000001_1625110521.jpg', 'name': 'GARMMA LINE FRIENDS PONGPONG系列 盒玩公仔(一套6隻不重複)', 'describe': 'GARMMA LINE FRIENDS PONGPONG系列 盒玩公仔(一套6隻不重複)\\\\r\\\\n★可愛pongpong系列公仔\\r\\n■韓國line friends正版授權\\r\\n■限量發售 驚喜上市\\r\\n■可愛療癒小物 每天都有好心情\\r\\n■本系列6款+2款隱藏版與黃金隱藏版\\r\\n■隱藏版與黃金隱藏版有一定機率出現', 'price': 1740, 'originPrice': 1740, 'author': '', 'brand': '', 'publishDate': '', 'sellerId': '', 'isPChome': 1, 'isNC17': 0, 'couponActid': ['C026880'], 'BU': 'ec'}, {'Id': 'DEDG0K-A900BRT3T', 'cateId': 'DEDG0K', 'picS': '/items/DEDG0KA900BRT3T/000001_1631594065.jpg', 'picB': '/items/DEDG0KA900BRT3T/000001_1631594065.jpg', 'name': 'RE-MENT精靈寶可夢盆景神奇寶貝球盆盒玩具P6全6種204772皮卡丘美麗花炎帝小磁怪', 'describe': '【南紡購物中心】 日RE-MENT精靈寶可夢盆景神奇寶貝球盆景品盒玩具全6種P6皮卡丘美麗花炎帝夢幻果然翁木守宫小磁怪204772\\\\r\\\\n日本re-ment精靈寶可夢盆景神奇寶貝球盆盒玩具p6全6種4521121204772', 'price': 1899, 'originPrice': 1899, 'author': '', 'brand': '', 'publishDate': '', 'sellerId': '', 'isPChome': 1, 'isNC17': 0, 'couponActid': ['C026559', 'C026880', 'C026573', 'C026564'], 'BU': 'ec'}, {'Id': 'DEASKS-A900BW0S6', 'cateId': 'DEASKS', 'picS': '/items/DEASKSA900BW0S6/000001_1634562727.jpg', 'picB': '/items/DEASKSA900BW0S6/000001_1634562727.jpg', 'name': '小甜豆超市2系列公仔盒玩(12入盒裝)', 'describe': '小甜豆超市2系列公仔盒玩(12入盒裝)\\\\r\\\\n', 'price': 3360, 'originPrice': 3360, 'author': '', 'brand': '', 'publishDate': '', 'sellerId': '', 'isPChome': 1, 'isNC17': 0, 'couponActid': [], 'BU': 'ec'}, {'Id': 'DEBAGT-A900BXZKY', 'cateId': 'DEBAGT', 'picS': '/items/DEBAGTA900BXZKY/000001_1635906567.jpg', 'picB': '/items/DEBAGTA900BXZKY/000001_1635906567.jpg', 'name': '【AOTTO】多功能磁吸撞色盒玩收藏收納箱 展示箱-1入(三色可選)', 'describe': '【AOTTO】多功能磁吸撞色盒玩收藏收納箱 展示箱-1入(三色可選)\\\\r\\\\n磁吸開門設計 方便拿取\\r\\n大容量 透明可視 自由疊加\\r\\n附分層隔板 靈活拆卸 多樣化', 'price': 590, 'originPrice': 590, 'author': '', 'brand': '', 'publishDate': '', 'sellerId': '', 'isPChome': 1, 'isNC17': 0, 'couponActid': [], 'BU': 'ec'}, {'Id': 'DEASKS-A900BMYVM', 'cateId': 'DEASKS', 'picS': '/items/DEASKSA900BMYVM/000001_1628166306.jpg', 'picB': '/items/DEASKSA900BMYVM/000001_1628166306.jpg', 'name': '小甜豆秋葉原系列公仔盒玩(12入盒裝)', 'describe': '小甜豆秋葉原系列公仔盒玩(12入盒裝)\\\\r\\\\n', 'price': 3195, 'originPrice': 3195, 'author': '', 'brand': '', 'publishDate': '', 'sellerId': '', 'isPChome': 1, 'isNC17': 0, 'couponActid': [], 'BU': 'ec'}, {'Id': 'DEASKS-A900BPQ1J', 'cateId': 'DEASKS', 'picS': '/items/DEASKSA900BPQ1J/000001_1630209866.jpg', 'picB': '/items/DEASKSA900BPQ1J/000001_1630209866.jpg', 'name': 'YUKI 進化論系列公仔盒玩(兩入隨機款)', 'describe': 'YUKI 進化論系列公仔盒玩(兩入隨機款)\\\\r\\\\n', 'price': 560, 'originPrice': 560, 'author': '', 'brand': '', 'publishDate': '', 'sellerId': '', 'isPChome': 1, 'isNC17': 0, 'couponActid': [], 'BU': 'ec'}, {'Id': 'DEAS8T-A900BY77O', 'cateId': 'DEAS8T', 'picS': '/items/DEAS8TA900BY77O/000001_1636015201.jpg', 'picB': '/items/DEAS8TA900BY77O/000001_1636015201.jpg', 'name': '日貨盒玩 鬼滅之刃 WCF VOL.1', 'describe': '日貨盒玩 鬼滅之刃 WCF  VOL.1\\\\r\\\\n正版日貨 玩偶公仔品質精美\\r\\n劇情蜘蛛山主要角色人物\\r\\n國內商檢合格字號 m33559 \\r\\n限量發售 值得珍藏', 'price': 1380, 'originPrice': 1380, 'author': '', 'brand': '', 'publishDate': '', 'sellerId': '', 'isPChome': 1, 'isNC17': 0, 'couponActid': ['C026859', 'C026880', 'C026896', 'C026858', 'C026897', 'C026898'], 'BU': 'ec'}, {'Id': 'DEASKS-A900BYBRQ', 'cateId': 'DEASKS', 'picS': '/items/DEASKSA900BYBRQ/000001_1636095151.jpg', 'picB': '/items/DEASKSA900BYBRQ/000001_1636095151.jpg', 'name': 'DC正義聯盟系列公仔盒玩(12入盒裝)', 'describe': 'DC正義聯盟系列公仔盒玩(12入盒裝)\\\\r\\\\n', 'price': 3360, 'originPrice': 3360, 'author': '', 'brand': '', 'publishDate': '', 'sellerId': '', 'isPChome': 1, 'isNC17': 0, 'couponActid': [], 'BU': 'ec'}, {'Id': 'DEASKS-A900BYBXP', 'cateId': 'DEASKS', 'picS': '/items/DEASKSA900BYBXP/000001_1636096555.jpg', 'picB': '/items/DEASKSA900BYBXP/000001_1636096555.jpg', 'name': 'FLABJACKS奇思妙想小植物系列公仔盒玩(10入盒裝)', 'describe': 'FLABJACKS奇思妙想小植物系列公仔盒玩(10入盒裝)\\\\r\\\\n', 'price': 2671, 'originPrice': 2671, 'author': '', 'brand': '', 'publishDate': '', 'sellerId': '', 'isPChome': 1, 'isNC17': 0, 'couponActid': [], 'BU': 'ec'}, {'Id': 'DEAS8T-A900BNHL7', 'cateId': 'DEAS8T', 'picS': '/items/DEAS8TA900BNHL7/000001_1628581057.jpg', 'picB': '/items/DEAS8TA900BNHL7/000001_1628581057.jpg', 'name': 'MAX LIMITED 鬼滅之刃 抱抱角色 玩偶收藏集 盒玩 6入一中盒', 'describe': 'MAX LIMITED 鬼滅之刃 抱抱角色 玩偶收藏集 盒玩 6入一中盒 / 玩偶 / 吊飾 / 夾手偶\\\\r\\\\n正版授權商品\\r\\n內含角色：竈門炭治郎 竈門禰豆子 我妻善逸 嘴平伊之助 冨岡義勇  錆兎\\r\\n\\r\\n請留意：此為收藏公仔，外盒視為商品價值的一部分，如尚未確認購買意願，請勿拆盒，謝謝', 'price': 1899, 'originPrice': 1899, 'author': '', 'brand': '', 'publishDate': '', 'sellerId': '', 'isPChome': 1, 'isNC17': 0, 'couponActid': ['C026880', 'C026896', 'C026897', 'C026898'], 'BU': 'ec'}, {'Id': 'DEASL7-A900BXHIX', 'cateId': 'DEASL7', 'picS': '/items/DEASL7A900BXHIX/000001_1635496949.jpg', 'picB': '/items/DEASL7A900BXHIX/000001_1635496949.jpg', 'name': 'Re-ment 優勝！一個人的單身飯 盒玩 1中盒8入 代理', 'describe': 'Re-ment 優勝！一個人的單身飯 盒玩 1中盒8入 代理\\\\r\\\\n超受期待的動漫電玩角色\\r\\n超精緻塗裝與超豐富精細配件', 'price': 1599, 'originPrice': 1599, 'author': '', 'brand': '', 'publishDate': '', 'sellerId': '', 'isPChome': 1, 'isNC17': 0, 'couponActid': ['C026880'], 'BU': 'ec'}, {'Id': 'DEASL7-A900B36R6', 'cateId': 'DEASL7', 'picS': '/items/DEASL7A900B36R6/000001_1610209677.jpg', 'picB': '/items/DEASL7A900B36R6/000001_1610209677.jpg', 'name': '非人哉發呆哪吒海上尋寶系列公仔盒玩 (9入盒裝)', 'describe': '非人哉發呆哪吒海上尋寶系列公仔盒玩 (9入盒裝)\\\\r\\\\n發呆哪吒化身為大海上最自由的冒險家\\r\\n出發尋找深淵裡的寶藏\\r\\n願你也能跟著發呆哪吒\\r\\n找到屬於自己那片自由無憂的大海\\r\\n今夜好夢', 'price': 2823, 'originPrice': 2823, 'author': '', 'brand': '', 'publishDate': '', 'sellerId': '', 'isPChome': 1, 'isNC17': 0, 'couponActid': [], 'BU': 'ec'}, {'Id': 'DEASKS-A900BKFP7', 'cateId': 'DEASKS', 'picS': '/items/DEASKSA900BKFP7/000001_1626262694.jpg', 'picB': '/items/DEASKSA900BKFP7/000001_1626262694.jpg', 'name': 'ZOE水果星球系列公仔盒玩(12入盒裝)', 'describe': 'ZOE水果星球系列公仔盒玩(12入盒裝)\\\\r\\\\n', 'price': 3360, 'originPrice': 3360, 'author': '', 'brand': '', 'publishDate': '', 'sellerId': '', 'isPChome': 1, 'isNC17': 0, 'couponActid': [], 'BU': 'ec'}, {'Id': 'DEASKS-A900BBQ1J', 'cateId': 'DEASKS', 'picS': '/items/DEASKSA900BBQ1J/000001_1620215310.jpg', 'picB': '/items/DEASKSA900BBQ1J/000001_1620215310.jpg', 'name': 'LABUBU海綿寶寶系列公仔盒玩(12入盒裝)', 'describe': 'LABUBU海綿寶寶系列公仔盒玩(12入盒裝)\\\\r\\\\n', 'price': 3778, 'originPrice': 3778, 'author': '', 'brand': '', 'publishDate': '', 'sellerId': '', 'isPChome': 1, 'isNC17': 0, 'couponActid': [], 'BU': 'ec'}, {'Id': 'DEASL7-A900AN3UK', 'cateId': 'DEASL7', 'picS': '/items/DEASL7A900AN3UK/000001_1588659796.jpg', 'picB': '/items/DEASL7A900AN3UK/000001_1588659796.jpg', 'name': 'StayReal 鼠小小潮流系列公仔盒玩(12入盒裝)', 'describe': 'StayReal 鼠小小潮流系列公仔盒玩(12入盒裝)\\\\r\\\\nstayreal主理人暨藝術家不二良，\\r\\n核心創作靈魂角色-鼠小小mousylittle，\\r\\n童趣而色彩繽紛，透過角色扮演變裝，帶給觀眾熟悉又陌生的解讀樂趣，\\r\\n也隱喻在網路科技加持下，現代社會中每個人身上多角色與身分的重疊與交錯。', 'price': 3205, 'originPrice': 3205, 'author': '', 'brand': '', 'publishDate': '', 'sellerId': '', 'isPChome': 1, 'isNC17': 0, 'couponActid': [], 'BU': 'ec'}, {'Id': 'DEASL7-A900AYDTR', 'cateId': 'DEASL7', 'picS': '/items/DEASL7A900AYDTR/000001_1603883435.jpg', 'picB': '/items/DEASL7A900AYDTR/000001_1603883435.jpg', 'name': 'Satyr Rory 潘神洛麗夏日系列公仔盒玩(單入隨機款)', 'describe': 'Satyr Rory 潘神洛麗夏日系列公仔盒玩(單入隨機款)\\\\r\\\\n與潘神一起走進夢幻夏日季\\r\\n暑假最美好的憧憬\\r\\n陽光沙灘海浪\\r\\n久違的天真爛漫\\r\\n喚起心底最柔軟的角落', 'price': 267, 'originPrice': 267, 'author': '', 'brand': '', 'publishDate': '', 'sellerId': '', 'isPChome': 1, 'isNC17': 0, 'couponActid': [], 'BU': 'ec'}]}\n",
            "<class 'dict'>\n"
          ]
        }
      ]
    },
    {
      "cell_type": "code",
      "source": [
        "prods = res_dict['prods']\n",
        "# print(type(prods))\n",
        "# print(type(prods[0]))\n",
        "\n",
        "# print(prods[0]['name'])\n",
        "# print(prods[0]['price'])\n",
        "\n",
        "p_list = []\n",
        "for prod in prods:\n",
        "  print(prod['name'], prod['price'])\n",
        "  p_list.append({'name': prod['name'],'price:': prod['price']})"
      ],
      "metadata": {
        "colab": {
          "base_uri": "https://localhost:8080/"
        },
        "id": "IaF7GJFZOXpx",
        "outputId": "86116b3e-3c81-4d1b-8ad5-3528d5227c60"
      },
      "execution_count": null,
      "outputs": [
        {
          "output_type": "stream",
          "name": "stdout",
          "text": [
            "Skullpanda熊貓熱潮系列公仔盒玩(12入盒裝) 3960\n",
            "Molly茉莉女孩 X 大久保聯名系列公仔盒玩(12入盒裝) 4440\n",
            "【AOTTO】多功能磁吸撞色盒玩收藏收納箱 展示箱-3入(三色可選) 1180\n",
            "Skullpanda糖果怪物小鎮系列公仔盒玩(12入盒裝) 3960\n",
            "GARMMA LINE FRIENDS PONGPONG系列 盒玩公仔(一套6隻不重複) 1740\n",
            "RE-MENT精靈寶可夢盆景神奇寶貝球盆盒玩具P6全6種204772皮卡丘美麗花炎帝小磁怪 1899\n",
            "小甜豆超市2系列公仔盒玩(12入盒裝) 3360\n",
            "【AOTTO】多功能磁吸撞色盒玩收藏收納箱 展示箱-1入(三色可選) 590\n",
            "小甜豆秋葉原系列公仔盒玩(12入盒裝) 3195\n",
            "YUKI 進化論系列公仔盒玩(兩入隨機款) 560\n",
            "日貨盒玩 鬼滅之刃 WCF VOL.1 1380\n",
            "DC正義聯盟系列公仔盒玩(12入盒裝) 3360\n",
            "FLABJACKS奇思妙想小植物系列公仔盒玩(10入盒裝) 2671\n",
            "MAX LIMITED 鬼滅之刃 抱抱角色 玩偶收藏集 盒玩 6入一中盒 1899\n",
            "Re-ment 優勝！一個人的單身飯 盒玩 1中盒8入 代理 1599\n",
            "非人哉發呆哪吒海上尋寶系列公仔盒玩 (9入盒裝) 2823\n",
            "ZOE水果星球系列公仔盒玩(12入盒裝) 3360\n",
            "LABUBU海綿寶寶系列公仔盒玩(12入盒裝) 3778\n",
            "StayReal 鼠小小潮流系列公仔盒玩(12入盒裝) 3205\n",
            "Satyr Rory 潘神洛麗夏日系列公仔盒玩(單入隨機款) 267\n"
          ]
        }
      ]
    },
    {
      "cell_type": "code",
      "source": [
        "import pandas as pd\n",
        "\n",
        "pd.DataFrame(p_list)"
      ],
      "metadata": {
        "colab": {
          "base_uri": "https://localhost:8080/",
          "height": 676
        },
        "id": "yB7oJD-3VRJg",
        "outputId": "1a2b9392-7e26-4050-dc07-07de073cc92e"
      },
      "execution_count": null,
      "outputs": [
        {
          "output_type": "execute_result",
          "data": {
            "text/plain": [
              "                                             name  price:\n",
              "0                     Skullpanda熊貓熱潮系列公仔盒玩(12入盒裝)    3960\n",
              "1                  Molly茉莉女孩 X 大久保聯名系列公仔盒玩(12入盒裝)    4440\n",
              "2              【AOTTO】多功能磁吸撞色盒玩收藏收納箱 展示箱-3入(三色可選)    1180\n",
              "3                   Skullpanda糖果怪物小鎮系列公仔盒玩(12入盒裝)    3960\n",
              "4    GARMMA LINE FRIENDS PONGPONG系列 盒玩公仔(一套6隻不重複)    1740\n",
              "5   RE-MENT精靈寶可夢盆景神奇寶貝球盆盒玩具P6全6種204772皮卡丘美麗花炎帝小磁怪    1899\n",
              "6                             小甜豆超市2系列公仔盒玩(12入盒裝)    3360\n",
              "7              【AOTTO】多功能磁吸撞色盒玩收藏收納箱 展示箱-1入(三色可選)     590\n",
              "8                             小甜豆秋葉原系列公仔盒玩(12入盒裝)    3195\n",
              "9                           YUKI 進化論系列公仔盒玩(兩入隨機款)     560\n",
              "10                            日貨盒玩 鬼滅之刃 WCF VOL.1    1380\n",
              "11                            DC正義聯盟系列公仔盒玩(12入盒裝)    3360\n",
              "12                  FLABJACKS奇思妙想小植物系列公仔盒玩(10入盒裝)    2671\n",
              "13           MAX LIMITED 鬼滅之刃 抱抱角色 玩偶收藏集 盒玩 6入一中盒    1899\n",
              "14                 Re-ment 優勝！一個人的單身飯 盒玩 1中盒8入 代理    1599\n",
              "15                       非人哉發呆哪吒海上尋寶系列公仔盒玩 (9入盒裝)    2823\n",
              "16                           ZOE水果星球系列公仔盒玩(12入盒裝)    3360\n",
              "17                        LABUBU海綿寶寶系列公仔盒玩(12入盒裝)    3778\n",
              "18                    StayReal 鼠小小潮流系列公仔盒玩(12入盒裝)    3205\n",
              "19                 Satyr Rory 潘神洛麗夏日系列公仔盒玩(單入隨機款)     267"
            ],
            "text/html": [
              "\n",
              "  <div id=\"df-11621bcd-0907-4c8f-9445-2d30ac0ea8a1\">\n",
              "    <div class=\"colab-df-container\">\n",
              "      <div>\n",
              "<style scoped>\n",
              "    .dataframe tbody tr th:only-of-type {\n",
              "        vertical-align: middle;\n",
              "    }\n",
              "\n",
              "    .dataframe tbody tr th {\n",
              "        vertical-align: top;\n",
              "    }\n",
              "\n",
              "    .dataframe thead th {\n",
              "        text-align: right;\n",
              "    }\n",
              "</style>\n",
              "<table border=\"1\" class=\"dataframe\">\n",
              "  <thead>\n",
              "    <tr style=\"text-align: right;\">\n",
              "      <th></th>\n",
              "      <th>name</th>\n",
              "      <th>price:</th>\n",
              "    </tr>\n",
              "  </thead>\n",
              "  <tbody>\n",
              "    <tr>\n",
              "      <th>0</th>\n",
              "      <td>Skullpanda熊貓熱潮系列公仔盒玩(12入盒裝)</td>\n",
              "      <td>3960</td>\n",
              "    </tr>\n",
              "    <tr>\n",
              "      <th>1</th>\n",
              "      <td>Molly茉莉女孩 X 大久保聯名系列公仔盒玩(12入盒裝)</td>\n",
              "      <td>4440</td>\n",
              "    </tr>\n",
              "    <tr>\n",
              "      <th>2</th>\n",
              "      <td>【AOTTO】多功能磁吸撞色盒玩收藏收納箱 展示箱-3入(三色可選)</td>\n",
              "      <td>1180</td>\n",
              "    </tr>\n",
              "    <tr>\n",
              "      <th>3</th>\n",
              "      <td>Skullpanda糖果怪物小鎮系列公仔盒玩(12入盒裝)</td>\n",
              "      <td>3960</td>\n",
              "    </tr>\n",
              "    <tr>\n",
              "      <th>4</th>\n",
              "      <td>GARMMA LINE FRIENDS PONGPONG系列 盒玩公仔(一套6隻不重複)</td>\n",
              "      <td>1740</td>\n",
              "    </tr>\n",
              "    <tr>\n",
              "      <th>5</th>\n",
              "      <td>RE-MENT精靈寶可夢盆景神奇寶貝球盆盒玩具P6全6種204772皮卡丘美麗花炎帝小磁怪</td>\n",
              "      <td>1899</td>\n",
              "    </tr>\n",
              "    <tr>\n",
              "      <th>6</th>\n",
              "      <td>小甜豆超市2系列公仔盒玩(12入盒裝)</td>\n",
              "      <td>3360</td>\n",
              "    </tr>\n",
              "    <tr>\n",
              "      <th>7</th>\n",
              "      <td>【AOTTO】多功能磁吸撞色盒玩收藏收納箱 展示箱-1入(三色可選)</td>\n",
              "      <td>590</td>\n",
              "    </tr>\n",
              "    <tr>\n",
              "      <th>8</th>\n",
              "      <td>小甜豆秋葉原系列公仔盒玩(12入盒裝)</td>\n",
              "      <td>3195</td>\n",
              "    </tr>\n",
              "    <tr>\n",
              "      <th>9</th>\n",
              "      <td>YUKI 進化論系列公仔盒玩(兩入隨機款)</td>\n",
              "      <td>560</td>\n",
              "    </tr>\n",
              "    <tr>\n",
              "      <th>10</th>\n",
              "      <td>日貨盒玩 鬼滅之刃 WCF VOL.1</td>\n",
              "      <td>1380</td>\n",
              "    </tr>\n",
              "    <tr>\n",
              "      <th>11</th>\n",
              "      <td>DC正義聯盟系列公仔盒玩(12入盒裝)</td>\n",
              "      <td>3360</td>\n",
              "    </tr>\n",
              "    <tr>\n",
              "      <th>12</th>\n",
              "      <td>FLABJACKS奇思妙想小植物系列公仔盒玩(10入盒裝)</td>\n",
              "      <td>2671</td>\n",
              "    </tr>\n",
              "    <tr>\n",
              "      <th>13</th>\n",
              "      <td>MAX LIMITED 鬼滅之刃 抱抱角色 玩偶收藏集 盒玩 6入一中盒</td>\n",
              "      <td>1899</td>\n",
              "    </tr>\n",
              "    <tr>\n",
              "      <th>14</th>\n",
              "      <td>Re-ment 優勝！一個人的單身飯 盒玩 1中盒8入 代理</td>\n",
              "      <td>1599</td>\n",
              "    </tr>\n",
              "    <tr>\n",
              "      <th>15</th>\n",
              "      <td>非人哉發呆哪吒海上尋寶系列公仔盒玩 (9入盒裝)</td>\n",
              "      <td>2823</td>\n",
              "    </tr>\n",
              "    <tr>\n",
              "      <th>16</th>\n",
              "      <td>ZOE水果星球系列公仔盒玩(12入盒裝)</td>\n",
              "      <td>3360</td>\n",
              "    </tr>\n",
              "    <tr>\n",
              "      <th>17</th>\n",
              "      <td>LABUBU海綿寶寶系列公仔盒玩(12入盒裝)</td>\n",
              "      <td>3778</td>\n",
              "    </tr>\n",
              "    <tr>\n",
              "      <th>18</th>\n",
              "      <td>StayReal 鼠小小潮流系列公仔盒玩(12入盒裝)</td>\n",
              "      <td>3205</td>\n",
              "    </tr>\n",
              "    <tr>\n",
              "      <th>19</th>\n",
              "      <td>Satyr Rory 潘神洛麗夏日系列公仔盒玩(單入隨機款)</td>\n",
              "      <td>267</td>\n",
              "    </tr>\n",
              "  </tbody>\n",
              "</table>\n",
              "</div>\n",
              "      <button class=\"colab-df-convert\" onclick=\"convertToInteractive('df-11621bcd-0907-4c8f-9445-2d30ac0ea8a1')\"\n",
              "              title=\"Convert this dataframe to an interactive table.\"\n",
              "              style=\"display:none;\">\n",
              "        \n",
              "  <svg xmlns=\"http://www.w3.org/2000/svg\" height=\"24px\"viewBox=\"0 0 24 24\"\n",
              "       width=\"24px\">\n",
              "    <path d=\"M0 0h24v24H0V0z\" fill=\"none\"/>\n",
              "    <path d=\"M18.56 5.44l.94 2.06.94-2.06 2.06-.94-2.06-.94-.94-2.06-.94 2.06-2.06.94zm-11 1L8.5 8.5l.94-2.06 2.06-.94-2.06-.94L8.5 2.5l-.94 2.06-2.06.94zm10 10l.94 2.06.94-2.06 2.06-.94-2.06-.94-.94-2.06-.94 2.06-2.06.94z\"/><path d=\"M17.41 7.96l-1.37-1.37c-.4-.4-.92-.59-1.43-.59-.52 0-1.04.2-1.43.59L10.3 9.45l-7.72 7.72c-.78.78-.78 2.05 0 2.83L4 21.41c.39.39.9.59 1.41.59.51 0 1.02-.2 1.41-.59l7.78-7.78 2.81-2.81c.8-.78.8-2.07 0-2.86zM5.41 20L4 18.59l7.72-7.72 1.47 1.35L5.41 20z\"/>\n",
              "  </svg>\n",
              "      </button>\n",
              "      \n",
              "  <style>\n",
              "    .colab-df-container {\n",
              "      display:flex;\n",
              "      flex-wrap:wrap;\n",
              "      gap: 12px;\n",
              "    }\n",
              "\n",
              "    .colab-df-convert {\n",
              "      background-color: #E8F0FE;\n",
              "      border: none;\n",
              "      border-radius: 50%;\n",
              "      cursor: pointer;\n",
              "      display: none;\n",
              "      fill: #1967D2;\n",
              "      height: 32px;\n",
              "      padding: 0 0 0 0;\n",
              "      width: 32px;\n",
              "    }\n",
              "\n",
              "    .colab-df-convert:hover {\n",
              "      background-color: #E2EBFA;\n",
              "      box-shadow: 0px 1px 2px rgba(60, 64, 67, 0.3), 0px 1px 3px 1px rgba(60, 64, 67, 0.15);\n",
              "      fill: #174EA6;\n",
              "    }\n",
              "\n",
              "    [theme=dark] .colab-df-convert {\n",
              "      background-color: #3B4455;\n",
              "      fill: #D2E3FC;\n",
              "    }\n",
              "\n",
              "    [theme=dark] .colab-df-convert:hover {\n",
              "      background-color: #434B5C;\n",
              "      box-shadow: 0px 1px 3px 1px rgba(0, 0, 0, 0.15);\n",
              "      filter: drop-shadow(0px 1px 2px rgba(0, 0, 0, 0.3));\n",
              "      fill: #FFFFFF;\n",
              "    }\n",
              "  </style>\n",
              "\n",
              "      <script>\n",
              "        const buttonEl =\n",
              "          document.querySelector('#df-11621bcd-0907-4c8f-9445-2d30ac0ea8a1 button.colab-df-convert');\n",
              "        buttonEl.style.display =\n",
              "          google.colab.kernel.accessAllowed ? 'block' : 'none';\n",
              "\n",
              "        async function convertToInteractive(key) {\n",
              "          const element = document.querySelector('#df-11621bcd-0907-4c8f-9445-2d30ac0ea8a1');\n",
              "          const dataTable =\n",
              "            await google.colab.kernel.invokeFunction('convertToInteractive',\n",
              "                                                     [key], {});\n",
              "          if (!dataTable) return;\n",
              "\n",
              "          const docLinkHtml = 'Like what you see? Visit the ' +\n",
              "            '<a target=\"_blank\" href=https://colab.research.google.com/notebooks/data_table.ipynb>data table notebook</a>'\n",
              "            + ' to learn more about interactive tables.';\n",
              "          element.innerHTML = '';\n",
              "          dataTable['output_type'] = 'display_data';\n",
              "          await google.colab.output.renderOutput(dataTable, element);\n",
              "          const docLink = document.createElement('div');\n",
              "          docLink.innerHTML = docLinkHtml;\n",
              "          element.appendChild(docLink);\n",
              "        }\n",
              "      </script>\n",
              "    </div>\n",
              "  </div>\n",
              "  "
            ]
          },
          "metadata": {},
          "execution_count": 24
        }
      ]
    }
  ]
}