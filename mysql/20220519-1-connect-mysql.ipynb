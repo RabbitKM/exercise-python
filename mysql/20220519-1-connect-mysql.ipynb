{
  "nbformat": 4,
  "nbformat_minor": 0,
  "metadata": {
    "colab": {
      "provenance": [],
      "collapsed_sections": []
    },
    "kernelspec": {
      "name": "python3",
      "display_name": "Python 3"
    },
    "language_info": {
      "name": "python"
    }
  },
  "cells": [
    {
      "cell_type": "code",
      "execution_count": null,
      "metadata": {
        "colab": {
          "base_uri": "https://localhost:8080/"
        },
        "id": "kVMwZz2HVfbm",
        "outputId": "f00df4c3-e0f8-40bb-c939-d3d897c6a02c"
      },
      "outputs": [
        {
          "output_type": "stream",
          "name": "stdout",
          "text": [
            "Collecting pymysql\n",
            "  Downloading PyMySQL-1.0.2-py3-none-any.whl (43 kB)\n",
            "\u001b[?25l\r\u001b[K     |███████▌                        | 10 kB 25.1 MB/s eta 0:00:01\r\u001b[K     |███████████████                 | 20 kB 11.9 MB/s eta 0:00:01\r\u001b[K     |██████████████████████▍         | 30 kB 9.0 MB/s eta 0:00:01\r\u001b[K     |██████████████████████████████  | 40 kB 7.8 MB/s eta 0:00:01\r\u001b[K     |████████████████████████████████| 43 kB 953 kB/s \n",
            "\u001b[?25hInstalling collected packages: pymysql\n",
            "Successfully installed pymysql-1.0.2\n"
          ]
        }
      ],
      "source": [
        "!pip install pymysql"
      ]
    },
    {
      "cell_type": "code",
      "source": [
        "import pymysql\n",
        "\n",
        "link = pymysql.connect(\n",
        "    host = '0.tcp.jp.ngrok.io',\n",
        "    user = 'root',\n",
        "    passwd = '',\n",
        "    db = 'ai2022-01',\n",
        "    charset = 'utf8',\n",
        "    port = 15568,\n",
        ")\n",
        "cur = link.cursor()\n",
        "\n",
        "# 清單\n",
        "data = [input('請輸入標題:'), input('請輸入描述:'), input('請輸入日期(輸入格式:2000-01-01):'), input('請輸入來源:')]\n",
        "cur.execute('INSERT INTO `news`(`title`, `description`, `create_date`, `source`) VALUES (%s,%s,%s,%s)', data)\n",
        "link.commit()\n",
        "\n",
        "link.close()"
      ],
      "metadata": {
        "colab": {
          "base_uri": "https://localhost:8080/"
        },
        "id": "HGGhNozmYM8-",
        "outputId": "69f72587-93c7-4ddb-9f43-39fbd3b6aa72"
      },
      "execution_count": null,
      "outputs": [
        {
          "name": "stdout",
          "output_type": "stream",
          "text": [
            "請輸入標題:測試自行輸入\n",
            "請輸入描述:1234567890\n",
            "請輸入日期(輸入格式:2000-01-01):2022-9-18\n",
            "請輸入來源:自己輸入\n"
          ]
        }
      ]
    },
    {
      "cell_type": "code",
      "source": [
        "import pymysql\n",
        "\n",
        "link = pymysql.connect(\n",
        "    host = '0.tcp.jp.ngrok.io',\n",
        "    user = 'root',\n",
        "    passwd = '',\n",
        "    db = 'ai2022-01',\n",
        "    charset = 'utf8',\n",
        "    port = 15568,\n",
        ")\n",
        "cur = link.cursor()\n",
        "\n",
        "# 字典\n",
        "data={\n",
        "    'a': input('請輸入標題:'),\n",
        "    'b': input('請輸入描述:'),\n",
        "    'c': input('請輸入日期(輸入格式:2000-01-01):'),\n",
        "    'd': input('請輸入來源:')\n",
        "  }\n",
        "cur.execute('INSERT INTO `news`(`title`, `description`, `create_date`, `source`) VALUES (%(a)s,%(b)s,%(c)s,%(d)s)', data)\n",
        "link.commit()\n",
        "\n",
        "link.close()"
      ],
      "metadata": {
        "colab": {
          "base_uri": "https://localhost:8080/"
        },
        "id": "lt2lqCmLmmlQ",
        "outputId": "89ace9fa-56ab-4aad-9219-8344bdd0870e"
      },
      "execution_count": null,
      "outputs": [
        {
          "name": "stdout",
          "output_type": "stream",
          "text": [
            "請輸入標題:123\n",
            "請輸入描述:456\n",
            "請輸入日期(輸入格式:2000-01-01):789\n",
            "請輸入來源:10\n"
          ]
        }
      ]
    },
    {
      "cell_type": "code",
      "source": [
        "import pymysql\n",
        "\n",
        "link = pymysql.connect(\n",
        "    host = '0.tcp.jp.ngrok.io',\n",
        "    user = 'root',\n",
        "    passwd = '',\n",
        "    db = 'ai2022-01',\n",
        "    charset = 'utf8',\n",
        "    port = 15568,\n",
        ")\n",
        "cur = link.cursor()\n",
        "\n",
        "cur.execute('SELECT * FROM `news`')\n",
        "# 查詢\n",
        "ret = cur.fetchall()\n",
        "# print(ret)\n",
        "for i in ret:\n",
        "  print(i[0], i[1])\n",
        "\n",
        "link.close()"
      ],
      "metadata": {
        "colab": {
          "base_uri": "https://localhost:8080/"
        },
        "id": "KNpX-QEAn4U9",
        "outputId": "ce8fdb2f-6b4e-4790-90ee-0cfef9811587"
      },
      "execution_count": null,
      "outputs": [
        {
          "output_type": "stream",
          "name": "stdout",
          "text": [
            "1 安杰物業突圍出擊 緯育TibaMe助陣打造物業黃埔軍校\n",
            "2 緯創旗下緯育 推數位轉型講座與規模化培訓課程\n",
            "3 疫情不必停學緯育TibaMe課程無縫轉線上｜ 蘋果新聞網｜ 蘋果 ...\n",
            "4 緯育TibaMe就業養成班和你疫起集氣+0\n",
            "5 緯創子公司緯育培訓班詢問度增| 聯合新聞網\n",
            "9 aaaa\n",
            "10 aaaa\n",
            "11 aaaa\n",
            "12 aaaa\n",
            "13 aaaa\n",
            "14 aaaa\n",
            "15 測試自行輸入\n",
            "16 自行輸入2\n",
            "17 456\n"
          ]
        }
      ]
    }
  ]
}